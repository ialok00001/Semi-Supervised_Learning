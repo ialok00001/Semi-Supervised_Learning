{
 "cells": [
  {
   "cell_type": "code",
   "execution_count": 1,
   "metadata": {},
   "outputs": [
    {
     "name": "stdout",
     "output_type": "stream",
     "text": [
      "C:\\Users\\Hp\\Desktop\\College\\Semester VI\\Data Mining and Machine Learning\\Assignments\\Assignment 3\n"
     ]
    }
   ],
   "source": [
    "cd \"C:\\Users\\Hp\\Desktop\\College\\Semester VI\\Data Mining and Machine Learning\\Assignments\\Assignment 3\""
   ]
  },
  {
   "attachments": {},
   "cell_type": "markdown",
   "metadata": {},
   "source": [
    "#### Importing packages"
   ]
  },
  {
   "cell_type": "code",
   "execution_count": 2,
   "metadata": {},
   "outputs": [],
   "source": [
    "# Common imports\n",
    "\n",
    "import numpy as np\n",
    "import pandas as pd\n",
    "import matplotlib as mpl\n",
    "\n",
    "\n",
    "\n",
    "\n",
    "# To make the notebook's output stable across runs\n",
    "\n",
    "np.random.seed(42)\n",
    "\n",
    "\n",
    "\n",
    "# Plotting figures\n",
    "\n",
    "%matplotlib inline\n",
    "import matplotlib.pyplot as plt\n",
    "mpl.rc('axes', labelsize=14)\n",
    "mpl.rc('xtick', labelsize=12)\n",
    "mpl.rc('ytick', labelsize=12)\n",
    "\n",
    "\n",
    "\n",
    "# Ignore useless warnings\n",
    "\n",
    "import warnings\n",
    "warnings.filterwarnings(action=\"ignore\", message=\"^internal gelsd\")"
   ]
  },
  {
   "cell_type": "code",
   "execution_count": 3,
   "metadata": {},
   "outputs": [],
   "source": [
    "# Importing Logistic Regression model\n",
    "\n",
    "from sklearn.linear_model import LogisticRegression"
   ]
  },
  {
   "attachments": {},
   "cell_type": "markdown",
   "metadata": {},
   "source": [
    "#### Loading the datasets"
   ]
  },
  {
   "cell_type": "code",
   "execution_count": 4,
   "metadata": {},
   "outputs": [],
   "source": [
    "classes = pd.read_csv(\"C:/Users\\Hp\\Desktop\\College\\Semester VI\\Data Mining and Machine Learning\\Assignments\\Assignment 3\\overhead\\classes.csv\")\n",
    "labels = pd.read_csv(\"C:/Users\\Hp\\Desktop\\College\\Semester VI\\Data Mining and Machine Learning\\Assignments\\Assignment 3\\overhead\\labels.csv\")\n",
    "test = pd.read_csv(\"C:/Users/Hp\\Desktop\\College\\Semester VI\\Data Mining and Machine Learning\\Assignments\\Assignment 3\\overhead/test.csv\")\n",
    "train = pd.read_csv(\"C:/Users\\Hp\\Desktop\\College\\Semester VI\\Data Mining and Machine Learning\\Assignments\\Assignment 3\\overhead/train.csv\")"
   ]
  },
  {
   "cell_type": "code",
   "execution_count": 5,
   "metadata": {},
   "outputs": [
    {
     "data": {
      "text/html": [
       "<div>\n",
       "<style scoped>\n",
       "    .dataframe tbody tr th:only-of-type {\n",
       "        vertical-align: middle;\n",
       "    }\n",
       "\n",
       "    .dataframe tbody tr th {\n",
       "        vertical-align: top;\n",
       "    }\n",
       "\n",
       "    .dataframe thead th {\n",
       "        text-align: right;\n",
       "    }\n",
       "</style>\n",
       "<table border=\"1\" class=\"dataframe\">\n",
       "  <thead>\n",
       "    <tr style=\"text-align: right;\">\n",
       "      <th></th>\n",
       "      <th>label</th>\n",
       "      <th>pixel1</th>\n",
       "      <th>pixel2</th>\n",
       "      <th>pixel3</th>\n",
       "      <th>pixel4</th>\n",
       "      <th>pixel5</th>\n",
       "      <th>pixel6</th>\n",
       "      <th>pixel7</th>\n",
       "      <th>pixel8</th>\n",
       "      <th>pixel9</th>\n",
       "      <th>...</th>\n",
       "      <th>pixel775</th>\n",
       "      <th>pixel776</th>\n",
       "      <th>pixel777</th>\n",
       "      <th>pixel778</th>\n",
       "      <th>pixel779</th>\n",
       "      <th>pixel780</th>\n",
       "      <th>pixel781</th>\n",
       "      <th>pixel782</th>\n",
       "      <th>pixel783</th>\n",
       "      <th>pixel784</th>\n",
       "    </tr>\n",
       "  </thead>\n",
       "  <tbody>\n",
       "    <tr>\n",
       "      <th>0</th>\n",
       "      <td>8</td>\n",
       "      <td>86</td>\n",
       "      <td>91</td>\n",
       "      <td>98</td>\n",
       "      <td>97</td>\n",
       "      <td>96</td>\n",
       "      <td>89</td>\n",
       "      <td>76</td>\n",
       "      <td>84</td>\n",
       "      <td>87</td>\n",
       "      <td>...</td>\n",
       "      <td>76</td>\n",
       "      <td>81</td>\n",
       "      <td>80</td>\n",
       "      <td>72</td>\n",
       "      <td>77</td>\n",
       "      <td>83</td>\n",
       "      <td>71</td>\n",
       "      <td>44</td>\n",
       "      <td>53</td>\n",
       "      <td>33</td>\n",
       "    </tr>\n",
       "    <tr>\n",
       "      <th>1</th>\n",
       "      <td>3</td>\n",
       "      <td>128</td>\n",
       "      <td>133</td>\n",
       "      <td>129</td>\n",
       "      <td>119</td>\n",
       "      <td>114</td>\n",
       "      <td>128</td>\n",
       "      <td>141</td>\n",
       "      <td>131</td>\n",
       "      <td>133</td>\n",
       "      <td>...</td>\n",
       "      <td>137</td>\n",
       "      <td>129</td>\n",
       "      <td>139</td>\n",
       "      <td>161</td>\n",
       "      <td>128</td>\n",
       "      <td>137</td>\n",
       "      <td>131</td>\n",
       "      <td>125</td>\n",
       "      <td>127</td>\n",
       "      <td>135</td>\n",
       "    </tr>\n",
       "    <tr>\n",
       "      <th>2</th>\n",
       "      <td>0</td>\n",
       "      <td>138</td>\n",
       "      <td>117</td>\n",
       "      <td>84</td>\n",
       "      <td>52</td>\n",
       "      <td>38</td>\n",
       "      <td>62</td>\n",
       "      <td>86</td>\n",
       "      <td>75</td>\n",
       "      <td>101</td>\n",
       "      <td>...</td>\n",
       "      <td>63</td>\n",
       "      <td>99</td>\n",
       "      <td>109</td>\n",
       "      <td>83</td>\n",
       "      <td>61</td>\n",
       "      <td>54</td>\n",
       "      <td>75</td>\n",
       "      <td>98</td>\n",
       "      <td>107</td>\n",
       "      <td>108</td>\n",
       "    </tr>\n",
       "    <tr>\n",
       "      <th>3</th>\n",
       "      <td>6</td>\n",
       "      <td>105</td>\n",
       "      <td>108</td>\n",
       "      <td>108</td>\n",
       "      <td>109</td>\n",
       "      <td>111</td>\n",
       "      <td>112</td>\n",
       "      <td>107</td>\n",
       "      <td>104</td>\n",
       "      <td>106</td>\n",
       "      <td>...</td>\n",
       "      <td>120</td>\n",
       "      <td>115</td>\n",
       "      <td>105</td>\n",
       "      <td>89</td>\n",
       "      <td>87</td>\n",
       "      <td>98</td>\n",
       "      <td>92</td>\n",
       "      <td>95</td>\n",
       "      <td>89</td>\n",
       "      <td>84</td>\n",
       "    </tr>\n",
       "    <tr>\n",
       "      <th>4</th>\n",
       "      <td>5</td>\n",
       "      <td>176</td>\n",
       "      <td>143</td>\n",
       "      <td>109</td>\n",
       "      <td>155</td>\n",
       "      <td>151</td>\n",
       "      <td>149</td>\n",
       "      <td>145</td>\n",
       "      <td>152</td>\n",
       "      <td>156</td>\n",
       "      <td>...</td>\n",
       "      <td>92</td>\n",
       "      <td>85</td>\n",
       "      <td>82</td>\n",
       "      <td>91</td>\n",
       "      <td>80</td>\n",
       "      <td>80</td>\n",
       "      <td>79</td>\n",
       "      <td>79</td>\n",
       "      <td>82</td>\n",
       "      <td>85</td>\n",
       "    </tr>\n",
       "  </tbody>\n",
       "</table>\n",
       "<p>5 rows × 785 columns</p>\n",
       "</div>"
      ],
      "text/plain": [
       "   label  pixel1  pixel2  pixel3  pixel4  pixel5  pixel6  pixel7  pixel8  \\\n",
       "0      8      86      91      98      97      96      89      76      84   \n",
       "1      3     128     133     129     119     114     128     141     131   \n",
       "2      0     138     117      84      52      38      62      86      75   \n",
       "3      6     105     108     108     109     111     112     107     104   \n",
       "4      5     176     143     109     155     151     149     145     152   \n",
       "\n",
       "   pixel9  ...  pixel775  pixel776  pixel777  pixel778  pixel779  pixel780  \\\n",
       "0      87  ...        76        81        80        72        77        83   \n",
       "1     133  ...       137       129       139       161       128       137   \n",
       "2     101  ...        63        99       109        83        61        54   \n",
       "3     106  ...       120       115       105        89        87        98   \n",
       "4     156  ...        92        85        82        91        80        80   \n",
       "\n",
       "   pixel781  pixel782  pixel783  pixel784  \n",
       "0        71        44        53        33  \n",
       "1       131       125       127       135  \n",
       "2        75        98       107       108  \n",
       "3        92        95        89        84  \n",
       "4        79        79        82        85  \n",
       "\n",
       "[5 rows x 785 columns]"
      ]
     },
     "execution_count": 5,
     "metadata": {},
     "output_type": "execute_result"
    }
   ],
   "source": [
    "train.head()"
   ]
  },
  {
   "cell_type": "code",
   "execution_count": 6,
   "metadata": {},
   "outputs": [
    {
     "data": {
      "text/plain": [
       "(8519, 785)"
      ]
     },
     "execution_count": 6,
     "metadata": {},
     "output_type": "execute_result"
    }
   ],
   "source": [
    "train.shape"
   ]
  },
  {
   "cell_type": "code",
   "execution_count": 7,
   "metadata": {},
   "outputs": [
    {
     "data": {
      "text/plain": [
       "(1065, 785)"
      ]
     },
     "execution_count": 7,
     "metadata": {},
     "output_type": "execute_result"
    }
   ],
   "source": [
    "test.shape"
   ]
  },
  {
   "cell_type": "code",
   "execution_count": 8,
   "metadata": {},
   "outputs": [],
   "source": [
    "X_train_1 = train.iloc[:, 1:]\n",
    "y_train_1 = train.iloc[:, 0]\n",
    "\n",
    "X_test_1 = test.iloc[:, 1:]\n",
    "y_test_1 = test.iloc[:, 0]"
   ]
  },
  {
   "attachments": {},
   "cell_type": "markdown",
   "metadata": {},
   "source": [
    "Checking for unknown inputs in training and testing datasets"
   ]
  },
  {
   "cell_type": "code",
   "execution_count": 9,
   "metadata": {},
   "outputs": [
    {
     "name": "stdout",
     "output_type": "stream",
     "text": [
      "Is any value in training data unknown = False\n",
      "Is any value in testing data unknown = False\n"
     ]
    }
   ],
   "source": [
    "c = 'False'\n",
    "for i in range(0, 785):\n",
    "    if train.iloc[:, i].isnull().values.any() == True:\n",
    "        c = True\n",
    "        break\n",
    "print(\"Is any value in training data unknown =\", c)\n",
    "\n",
    "c = 'False'\n",
    "for i in range(0, 785):\n",
    "    if test.iloc[:, i].isnull().values.any() == True:\n",
    "        c = True\n",
    "        break\n",
    "print(\"Is any value in testing data unknown =\", c)\n"
   ]
  },
  {
   "attachments": {},
   "cell_type": "markdown",
   "metadata": {},
   "source": [
    "There is no unknown value in our datasets. So we can move to further preprocessing."
   ]
  },
  {
   "attachments": {},
   "cell_type": "markdown",
   "metadata": {},
   "source": [
    "#### Normalizing the datasets"
   ]
  },
  {
   "cell_type": "code",
   "execution_count": 10,
   "metadata": {},
   "outputs": [],
   "source": [
    "X_train_1 = X_train_1/255\n",
    "X_test_1 = X_test_1/255"
   ]
  },
  {
   "attachments": {},
   "cell_type": "markdown",
   "metadata": {},
   "source": [
    "Splitting the training data further into training and validation set.\n",
    "\n",
    "The splitting is done so that we work with only the given training data beforehand and prevent optimizing our model with respect to the given testing data. This prevents overfitting of model with respect to the testing data."
   ]
  },
  {
   "cell_type": "code",
   "execution_count": 11,
   "metadata": {},
   "outputs": [],
   "source": [
    "from sklearn.model_selection import train_test_split\n",
    "\n",
    "X_train, X_test, y_train, y_test = train_test_split(X_train_1, y_train_1, test_size=0.30, random_state=42)"
   ]
  },
  {
   "attachments": {},
   "cell_type": "markdown",
   "metadata": {},
   "source": [
    "#### Logistic Regression on training dataset"
   ]
  },
  {
   "cell_type": "code",
   "execution_count": 12,
   "metadata": {},
   "outputs": [
    {
     "data": {
      "text/plain": [
       "0.46205007824726135"
      ]
     },
     "execution_count": 12,
     "metadata": {},
     "output_type": "execute_result"
    }
   ],
   "source": [
    "from sklearn.linear_model import LogisticRegression\n",
    "\n",
    "clf_reg_1 = LogisticRegression(random_state=42, max_iter = 1000)\n",
    "clf_reg_1.fit(X_train, y_train)\n",
    "clf_reg_1.score(X_test, y_test)"
   ]
  },
  {
   "cell_type": "code",
   "execution_count": 13,
   "metadata": {},
   "outputs": [
    {
     "name": "stdout",
     "output_type": "stream",
     "text": [
      "Number of iterations for regression model to converge = 908\n"
     ]
    }
   ],
   "source": [
    "print('Number of iterations for regression model to converge =', clf_reg_1.n_iter_[0])"
   ]
  },
  {
   "attachments": {},
   "cell_type": "markdown",
   "metadata": {},
   "source": [
    "The Logistic Regression converges within 1000 iterations to give an accuracy of 46.20% on test data."
   ]
  },
  {
   "attachments": {},
   "cell_type": "markdown",
   "metadata": {},
   "source": [
    "### Clustering"
   ]
  },
  {
   "cell_type": "code",
   "execution_count": 14,
   "metadata": {},
   "outputs": [],
   "source": [
    "# Number of clusters = k\n",
    "\n",
    "k = 450"
   ]
  },
  {
   "cell_type": "code",
   "execution_count": 15,
   "metadata": {},
   "outputs": [],
   "source": [
    "from sklearn.cluster import KMeans"
   ]
  },
  {
   "cell_type": "code",
   "execution_count": 16,
   "metadata": {},
   "outputs": [],
   "source": [
    "kmeans = KMeans(n_clusters=k, init='k-means++', n_init=1,\n",
    "                max_iter=400, random_state=42, )\n",
    "kmeans.fit(X_train)\n",
    "X_digits_dist = kmeans.transform(X_train)\n",
    "representative_digit_idx = np.argmin(X_digits_dist, axis = 0)\n",
    "X_representative_digits = X_train.iloc[representative_digit_idx, :]"
   ]
  },
  {
   "cell_type": "code",
   "execution_count": 17,
   "metadata": {},
   "outputs": [
    {
     "name": "stdout",
     "output_type": "stream",
     "text": [
      "Inertia = 129886.03188657087\n",
      "Number of iterations = 24\n"
     ]
    }
   ],
   "source": [
    "print('Inertia =', kmeans.inertia_)\n",
    "print('Number of iterations =', kmeans.n_iter_)"
   ]
  },
  {
   "cell_type": "code",
   "execution_count": 18,
   "metadata": {},
   "outputs": [],
   "source": [
    "# Converting pandas.DataFrame to numpy.array\n",
    "\n",
    "X_representative_digits_np = np.array(X_representative_digits)"
   ]
  },
  {
   "cell_type": "code",
   "execution_count": 19,
   "metadata": {},
   "outputs": [],
   "source": [
    "# This is the step where manual labelling on representative elements occurs.\n",
    "# The amount of data to be manually labelled is the number of clusters used for clustering.\n",
    "# Since we already had all elements labelled, we are directly using the labels for these representative elements from the dataset.\n",
    "\n",
    "y_representative_digits = np.array(y_train.iloc[representative_digit_idx])"
   ]
  },
  {
   "cell_type": "code",
   "execution_count": 20,
   "metadata": {},
   "outputs": [
    {
     "data": {
      "text/plain": [
       "0.39397496087636935"
      ]
     },
     "execution_count": 20,
     "metadata": {},
     "output_type": "execute_result"
    }
   ],
   "source": [
    "clf_reg_2 = LogisticRegression(multi_class=\"ovr\", solver=\"lbfgs\", max_iter=300, random_state=42)\n",
    "clf_reg_2.fit(X_representative_digits, y_representative_digits)\n",
    "clf_reg_2.score(X_test, y_test)"
   ]
  },
  {
   "attachments": {},
   "cell_type": "markdown",
   "metadata": {},
   "source": [
    "Propagating the labells to entire dataset"
   ]
  },
  {
   "cell_type": "code",
   "execution_count": 21,
   "metadata": {},
   "outputs": [],
   "source": [
    "y_train_propagated = np.empty(len(X_train), dtype=np.int32)\n",
    "for i in range(k):\n",
    "    y_train_propagated[kmeans.labels_==i] = y_representative_digits[i]"
   ]
  },
  {
   "cell_type": "code",
   "execution_count": 22,
   "metadata": {},
   "outputs": [
    {
     "data": {
      "text/plain": [
       "0.32198748043818465"
      ]
     },
     "execution_count": 22,
     "metadata": {},
     "output_type": "execute_result"
    }
   ],
   "source": [
    "clf_reg_3 = LogisticRegression(multi_class=\"ovr\", solver=\"lbfgs\", max_iter=1000, random_state=1)\n",
    "clf_reg_3.fit(X_train, y_train_propagated)\n",
    "clf_reg_3.score(X_test, y_test)"
   ]
  },
  {
   "cell_type": "code",
   "execution_count": 23,
   "metadata": {},
   "outputs": [
    {
     "name": "stdout",
     "output_type": "stream",
     "text": [
      "Number of iterations for regression model to converge = 222\n"
     ]
    }
   ],
   "source": [
    "print('Number of iterations for regression model to converge =', clf_reg_3.n_iter_[0])"
   ]
  },
  {
   "attachments": {},
   "cell_type": "markdown",
   "metadata": {},
   "source": [
    "Propagating the labells to closest 1% of each cluster from their respective centroids."
   ]
  },
  {
   "cell_type": "code",
   "execution_count": 24,
   "metadata": {},
   "outputs": [],
   "source": [
    "percentile_closest = 1\n",
    "\n",
    "X_cluster_dist = X_digits_dist[np.arange(len(X_train)), kmeans.labels_]\n",
    "for i in range(k):\n",
    "    in_cluster = (kmeans.labels_ == i)\n",
    "    cluster_dist = X_cluster_dist[in_cluster]\n",
    "    cutoff_distance = np.percentile(cluster_dist, percentile_closest)\n",
    "    above_cutoff = (X_cluster_dist > cutoff_distance)\n",
    "    X_cluster_dist[in_cluster & above_cutoff] = -1\n",
    "\n",
    "partially_propagated = (X_cluster_dist != -1)\n",
    "X_train_partially_propagated = X_train[partially_propagated]\n",
    "y_train_partially_propagated = y_train_propagated[partially_propagated]"
   ]
  },
  {
   "attachments": {},
   "cell_type": "markdown",
   "metadata": {},
   "source": [
    "This number below tells the fraction of labelles propagated that have the correct label."
   ]
  },
  {
   "cell_type": "code",
   "execution_count": 25,
   "metadata": {},
   "outputs": [
    {
     "data": {
      "text/plain": [
       "0.9466950959488273"
      ]
     },
     "execution_count": 25,
     "metadata": {},
     "output_type": "execute_result"
    }
   ],
   "source": [
    "np.mean(y_train_partially_propagated == y_train[partially_propagated])"
   ]
  },
  {
   "cell_type": "code",
   "execution_count": 26,
   "metadata": {},
   "outputs": [
    {
     "data": {
      "text/plain": [
       "0.3955399061032864"
      ]
     },
     "execution_count": 26,
     "metadata": {},
     "output_type": "execute_result"
    }
   ],
   "source": [
    "clf_reg_4 = LogisticRegression(multi_class=\"ovr\", solver=\"lbfgs\", max_iter=2000, random_state=42)\n",
    "clf_reg_4.fit(X_train_partially_propagated, y_train_partially_propagated)\n",
    "clf_reg_4.score(X_test, y_test)"
   ]
  },
  {
   "attachments": {},
   "cell_type": "markdown",
   "metadata": {},
   "source": [
    "To prevent writing the same program for different number of clusters, we define a function (k_cluster) below that takes in the number of clusters (k) and percentage of propagation (p) and gives all the above outputs."
   ]
  },
  {
   "cell_type": "code",
   "execution_count": 27,
   "metadata": {},
   "outputs": [],
   "source": [
    "def k_cluster_1(k, p):\n",
    "    kmeans = KMeans(n_clusters=k, init='k-means++', n_init=1,\n",
    "                max_iter=400, random_state=42, )\n",
    "    kmeans.fit(X_train)\n",
    "    X_digits_dist = kmeans.transform(X_train)\n",
    "    representative_digit_idx = np.argmin(X_digits_dist, axis = 0)\n",
    "    X_representative_digits = X_train.iloc[representative_digit_idx, :]\n",
    "    X_representative_digits_np = np.array(X_representative_digits)\n",
    "    \n",
    "    y_representative_digits = np.array(y_train.iloc[representative_digit_idx])\n",
    "    \n",
    "    log_reg = LogisticRegression(multi_class=\"ovr\", solver=\"lbfgs\", max_iter=2000, random_state=42)\n",
    "    log_reg.fit(X_representative_digits, y_representative_digits)\n",
    "    print('Accuracy with', k, 'clusters =', log_reg.score(X_test, y_test))\n",
    "    \n",
    "    y_train_propagated = np.empty(len(X_train), dtype=np.int32)\n",
    "    for i in range(k):\n",
    "        y_train_propagated[kmeans.labels_==i] = y_representative_digits[i]\n",
    "    \n",
    "    log_reg = LogisticRegression(multi_class=\"ovr\", solver=\"lbfgs\", max_iter=2000, random_state=1)\n",
    "    log_reg.fit(X_train, y_train_propagated)\n",
    "    print('Accuracy with labells propagated =', log_reg.score(X_test, y_test))\n",
    "    \n",
    "    percentile_closest = p\n",
    "    \n",
    "    X_cluster_dist = X_digits_dist[np.arange(len(X_train)), kmeans.labels_]\n",
    "    for i in range(k):\n",
    "        in_cluster = (kmeans.labels_ == i)\n",
    "        cluster_dist = X_cluster_dist[in_cluster]\n",
    "        cutoff_distance = np.percentile(cluster_dist, percentile_closest)\n",
    "        above_cutoff = (X_cluster_dist > cutoff_distance)\n",
    "        X_cluster_dist[in_cluster & above_cutoff] = -1\n",
    "    \n",
    "    partially_propagated = (X_cluster_dist != -1)\n",
    "    X_train_partially_propagated = X_train[partially_propagated]\n",
    "    y_train_partially_propagated = y_train_propagated[partially_propagated]\n",
    "    \n",
    "    print('Accuracy of percentage labels with actual labels =', np.mean(y_train_partially_propagated == y_train[partially_propagated]))\n",
    "    \n",
    "    log_reg = LogisticRegression(multi_class=\"ovr\", solver=\"lbfgs\", max_iter=2000, random_state=42)\n",
    "    log_reg.fit(X_train_partially_propagated, y_train_partially_propagated)\n",
    "    print('Accuracy with labells propagated to nearest', str(p)+'% elements =', log_reg.score(X_test, y_test))"
   ]
  },
  {
   "cell_type": "code",
   "execution_count": 28,
   "metadata": {},
   "outputs": [
    {
     "name": "stdout",
     "output_type": "stream",
     "text": [
      "Accuracy with 450 clusters = 0.39397496087636935\n",
      "Accuracy with labells propagated = 0.32198748043818465\n",
      "Accuracy of percentage labels with actual labels = 0.6338609772883689\n",
      "Accuracy with labells propagated to nearest 20% elements = 0.35093896713615025\n"
     ]
    }
   ],
   "source": [
    "k_cluster_1(450, 20)"
   ]
  },
  {
   "attachments": {},
   "cell_type": "markdown",
   "metadata": {},
   "source": [
    "This reduces the effort of changing the number of clusters each time. But still, this method does not gives us the optimal number of clusters to use in building our semi-supervised learning model. Also, we don't know any optimal method to declare what number of clusters should be considered 'ideal'."
   ]
  },
  {
   "attachments": {},
   "cell_type": "markdown",
   "metadata": {},
   "source": [
    "The problem is as follows:$\\\\$\n",
    "\n",
    "\n",
    "If we take very few clusters, we will be having very less information (labelled data) and a large amount of unknown (unlabelled data). Thus if we train our model using clustering on these labels, we would get relatively very less accuracy as we were getting from using the entire training dataset.$\\\\$\n",
    "On the other hand, if we take very large number of clusters (relative to number of elements in training data), then surely our accuracy after clustering should be good (very close to the one on entire training dataset). But then as number of clusters have increased, the number of labelled data have increased. Thus the cost of making this model increases, since then we have to make sure we have a large amount of manually labelled data."
   ]
  },
  {
   "attachments": {},
   "cell_type": "markdown",
   "metadata": {},
   "source": [
    "So we have to take the number of clusters neither too small nor too large, but someway in between, providing the lowest payoff between accuracy and cost of making the model.$\\\\$\n",
    "This looks a hard work to do and we don't know where to even start."
   ]
  },
  {
   "attachments": {},
   "cell_type": "markdown",
   "metadata": {},
   "source": [
    "In such a case, plotting seems to be a promosing approach, since we just have to purturb the number of clusters and find the accuracy on the representative elements. We can plot an 'Accuracy Vs Number_of_clusters' graph from this. This should give us some hint on how to find a suitable number of clusters."
   ]
  },
  {
   "cell_type": "code",
   "execution_count": 29,
   "metadata": {},
   "outputs": [],
   "source": [
    "scores = []"
   ]
  },
  {
   "cell_type": "code",
   "execution_count": 30,
   "metadata": {},
   "outputs": [],
   "source": [
    "def f(x, y, n):\n",
    "    for k in range(x, y+1, n):\n",
    "        kmeans = KMeans(n_clusters=k, init='k-means++', n_init=1,\n",
    "                max_iter=400, random_state=42, )\n",
    "        kmeans.fit(X_train)\n",
    "        X_digits_dist = kmeans.transform(X_train)\n",
    "        representative_digit_idx = np.argmin(X_digits_dist, axis = 0)\n",
    "        X_representative_digits = X_train.iloc[representative_digit_idx, :]\n",
    "        X_representative_digits_np = np.array(X_representative_digits)\n",
    "        \n",
    "        y_representative_digits = np.array(y_train.iloc[representative_digit_idx])\n",
    "        \n",
    "        log_reg = LogisticRegression(multi_class=\"ovr\", solver=\"lbfgs\", max_iter=2000, random_state=42)\n",
    "        log_reg.fit(X_representative_digits, y_representative_digits)\n",
    "        scores.append(log_reg.score(X_test, y_test))"
   ]
  },
  {
   "cell_type": "code",
   "execution_count": 31,
   "metadata": {},
   "outputs": [],
   "source": [
    "# Finding the accuracy for each cluster between 50 to 1000, with consecutive difference of 50 clusters.\n",
    "# This will take some time to run. But once compiled, we can use this data immediately to plot our graph.\n",
    "\n",
    "f(50, 1000, 50)"
   ]
  },
  {
   "cell_type": "code",
   "execution_count": 32,
   "metadata": {},
   "outputs": [
    {
     "name": "stdout",
     "output_type": "stream",
     "text": [
      "50 -> 0.23748043818466355\n",
      "100 -> 0.2750391236306729\n",
      "150 -> 0.32003129890453835\n",
      "200 -> 0.3673708920187793\n",
      "250 -> 0.3767605633802817\n",
      "300 -> 0.37871674491392804\n",
      "350 -> 0.39123630672926446\n",
      "400 -> 0.39710485133020346\n",
      "450 -> 0.39397496087636935\n",
      "500 -> 0.3951486697965571\n",
      "550 -> 0.3986697965571205\n",
      "600 -> 0.4029733959311424\n",
      "650 -> 0.4064945226917058\n",
      "700 -> 0.4064945226917058\n",
      "750 -> 0.41744913928012517\n",
      "800 -> 0.41744913928012517\n",
      "850 -> 0.4154929577464789\n",
      "900 -> 0.424491392801252\n",
      "950 -> 0.42214397496087636\n",
      "1000 -> 0.42527386541471046\n"
     ]
    }
   ],
   "source": [
    "for i in range(len(scores)):\n",
    "    print((i+1)*50 , \"->\", scores[i])"
   ]
  },
  {
   "cell_type": "code",
   "execution_count": 33,
   "metadata": {},
   "outputs": [
    {
     "data": {
      "text/plain": [
       "array([1000,  900,  950,  800,  750,  850,  700,  650,  600,  550,  400,\n",
       "        500,  450,  350,  300,  250,  200,  150,  100,   50], dtype=int64)"
      ]
     },
     "execution_count": 33,
     "metadata": {},
     "output_type": "execute_result"
    }
   ],
   "source": [
    "# Arranging the number of clusters in decreasing order of their accuracy.\n",
    "\n",
    "50 + (np.argsort(scores)[::-1])*50"
   ]
  },
  {
   "cell_type": "code",
   "execution_count": 34,
   "metadata": {},
   "outputs": [
    {
     "data": {
      "image/png": "[encoded data removed]",
      "text/plain": [
       "<Figure size 800x350 with 1 Axes>"
      ]
     },
     "metadata": {},
     "output_type": "display_data"
    }
   ],
   "source": [
    "# Now time to plot our graph.\n",
    "\n",
    "plt.figure(figsize=(8, 3.5))\n",
    "plt.plot([n for n in range(50, 1001, 50)], scores, 'bo-')\n",
    "plt.xlabel(\"$k$\", fontsize=14)\n",
    "plt.ylabel(\"Accuracy\", fontsize=14)\n",
    "\n",
    "plt.axis([0, 1050, np.min(scores) - 0.01, np.max(scores) + 0.01])\n",
    "plt.plot(200, scores[3], 'r*')\n",
    "plt.plot(750, scores[14], 'r*')\n",
    "\n",
    "plt.show()"
   ]
  },
  {
   "attachments": {},
   "cell_type": "markdown",
   "metadata": {},
   "source": [
    "From the above graph, it is not exactly clear which value of k to choose. We can choose k = 200 and justify that since after 200 clusters, the accuracy is not increasing very much, so increasing number of clusters beyond 200 will not be very feasible.$\\\\$\n",
    "One could also use k = 750 with the same reasoning. In this case, the initial increase in accuracy with respect to number of cluster is increasing, although with a lower rate, but not at a rate which can be neglected (not an infeasible rate)."
   ]
  },
  {
   "attachments": {},
   "cell_type": "markdown",
   "metadata": {},
   "source": [
    "# Applying PCA before clustering"
   ]
  },
  {
   "attachments": {},
   "cell_type": "markdown",
   "metadata": {},
   "source": [
    "Now before clustering, we apply a step of dimensionality reduction, called the Principal Component Analysis, or PCA. This will reduce the number of dimensions of our dataset to a smaller dimension. Our dataset have $28 \\times 28 = 784$ dimension. We reduce it to, say 25. Let's then apply two different models on this reduced dataset. One will be our earlier Logistic Regression and other will be Support Vector Machine, or SVM."
   ]
  },
  {
   "cell_type": "code",
   "execution_count": 35,
   "metadata": {},
   "outputs": [],
   "source": [
    "t = 25"
   ]
  },
  {
   "cell_type": "code",
   "execution_count": 36,
   "metadata": {},
   "outputs": [],
   "source": [
    "from sklearn.decomposition import PCA\n",
    "\n",
    "pca = PCA(n_components=t, random_state=42)\n",
    "pca.fit(X_train)\n",
    "X_train_pca = pca.transform(X_train)\n",
    "X_test_pca = pca.transform(X_test)"
   ]
  },
  {
   "attachments": {},
   "cell_type": "markdown",
   "metadata": {},
   "source": [
    "## Logistic Regression"
   ]
  },
  {
   "attachments": {},
   "cell_type": "markdown",
   "metadata": {},
   "source": [
    "#### Logistic Regression on Entire training dataset"
   ]
  },
  {
   "cell_type": "code",
   "execution_count": 37,
   "metadata": {},
   "outputs": [
    {
     "data": {
      "text/plain": [
       "0.46517996870109546"
      ]
     },
     "execution_count": 37,
     "metadata": {},
     "output_type": "execute_result"
    }
   ],
   "source": [
    "from sklearn.linear_model import LogisticRegression\n",
    "\n",
    "clf_reg_5 = LogisticRegression(random_state=42, max_iter = 500)\n",
    "clf_reg_5.fit(X_train_pca, y_train)\n",
    "clf_reg_5.score(X_test_pca, y_test)"
   ]
  },
  {
   "cell_type": "code",
   "execution_count": 38,
   "metadata": {},
   "outputs": [
    {
     "name": "stdout",
     "output_type": "stream",
     "text": [
      "Number of iterations for regression model to converge = 85\n"
     ]
    }
   ],
   "source": [
    "print('Number of iterations for regression model to converge =', clf_reg_5.n_iter_[0])"
   ]
  },
  {
   "attachments": {},
   "cell_type": "markdown",
   "metadata": {},
   "source": [
    "The Logistic Regression converges within 200 iterations to give an accuracy of 47.18% on test data."
   ]
  },
  {
   "attachments": {},
   "cell_type": "markdown",
   "metadata": {},
   "source": [
    "Note that the model takes relatively very less time to fit than earlier. This is because the number of attributes is now very few. Earlier there were 784 attributes, now there are just 25."
   ]
  },
  {
   "cell_type": "markdown",
   "metadata": {},
   "source": [
    "### Clustering"
   ]
  },
  {
   "cell_type": "code",
   "execution_count": 39,
   "metadata": {},
   "outputs": [],
   "source": [
    "k = 450"
   ]
  },
  {
   "cell_type": "code",
   "execution_count": 40,
   "metadata": {},
   "outputs": [],
   "source": [
    "kmeans = KMeans(n_clusters=k, init='k-means++', n_init=1,\n",
    "                max_iter=100, random_state=42, )\n",
    "kmeans.fit(X_train_pca)\n",
    "X_digits_dist = kmeans.transform(X_train_pca)\n",
    "representative_digit_idx = np.argmin(X_digits_dist, axis = 0)\n",
    "X_representative_digits = X_train_pca[representative_digit_idx, :]"
   ]
  },
  {
   "cell_type": "code",
   "execution_count": 41,
   "metadata": {},
   "outputs": [
    {
     "name": "stdout",
     "output_type": "stream",
     "text": [
      "Inertia = 41947.94629306982\n",
      "Number of iterations = 29\n"
     ]
    }
   ],
   "source": [
    "print('Inertia =', kmeans.inertia_)\n",
    "print('Number of iterations =', kmeans.n_iter_)"
   ]
  },
  {
   "cell_type": "code",
   "execution_count": 42,
   "metadata": {},
   "outputs": [],
   "source": [
    "X_representative_digits_np = np.array(X_representative_digits)"
   ]
  },
  {
   "cell_type": "code",
   "execution_count": 43,
   "metadata": {},
   "outputs": [],
   "source": [
    "y_representative_digits = np.array(y_train.iloc[representative_digit_idx])"
   ]
  },
  {
   "attachments": {},
   "cell_type": "markdown",
   "metadata": {},
   "source": [
    "Accuracy on representative elements"
   ]
  },
  {
   "cell_type": "code",
   "execution_count": 44,
   "metadata": {},
   "outputs": [
    {
     "data": {
      "text/plain": [
       "0.4182316118935837"
      ]
     },
     "execution_count": 44,
     "metadata": {},
     "output_type": "execute_result"
    }
   ],
   "source": [
    "clf_reg_6= LogisticRegression(multi_class=\"ovr\", solver=\"lbfgs\", max_iter=300, random_state=42)\n",
    "clf_reg_6.fit(X_representative_digits, y_representative_digits)\n",
    "clf_reg_6.score(X_test_pca, y_test)"
   ]
  },
  {
   "attachments": {},
   "cell_type": "markdown",
   "metadata": {},
   "source": [
    "Accuracy for labells propagated to entire dataset"
   ]
  },
  {
   "cell_type": "code",
   "execution_count": 45,
   "metadata": {},
   "outputs": [],
   "source": [
    "y_train_propagated = np.empty(len(X_train), dtype=np.int32)\n",
    "for i in range(k):\n",
    "    y_train_propagated[kmeans.labels_==i] = y_representative_digits[i]"
   ]
  },
  {
   "cell_type": "code",
   "execution_count": 46,
   "metadata": {},
   "outputs": [
    {
     "data": {
      "text/plain": [
       "0.40923317683881066"
      ]
     },
     "execution_count": 46,
     "metadata": {},
     "output_type": "execute_result"
    }
   ],
   "source": [
    "clf_reg_7= LogisticRegression(multi_class=\"ovr\", solver=\"lbfgs\", max_iter=200, random_state=1)\n",
    "clf_reg_7.fit(X_train_pca, y_train_propagated)\n",
    "clf_reg_7.score(X_test_pca, y_test)"
   ]
  },
  {
   "cell_type": "code",
   "execution_count": 47,
   "metadata": {},
   "outputs": [
    {
     "name": "stdout",
     "output_type": "stream",
     "text": [
      "Number of iterations for regression model to converge = 32\n"
     ]
    }
   ],
   "source": [
    "print('Number of iterations for regression model to converge =', clf_reg_7.n_iter_[0])"
   ]
  },
  {
   "attachments": {},
   "cell_type": "markdown",
   "metadata": {},
   "source": [
    "Accuracy on labells propagated to 1% of elements closest to each cluster."
   ]
  },
  {
   "cell_type": "code",
   "execution_count": 48,
   "metadata": {},
   "outputs": [],
   "source": [
    "percentile_closest = 1\n",
    "\n",
    "X_cluster_dist = X_digits_dist[np.arange(len(X_train_pca)), kmeans.labels_]\n",
    "for i in range(k):\n",
    "    in_cluster = (kmeans.labels_ == i)\n",
    "    cluster_dist = X_cluster_dist[in_cluster]\n",
    "    cutoff_distance = np.percentile(cluster_dist, percentile_closest)\n",
    "    above_cutoff = (X_cluster_dist > cutoff_distance)\n",
    "    X_cluster_dist[in_cluster & above_cutoff] = -1\n",
    "\n",
    "partially_propagated = (X_cluster_dist != -1)\n",
    "X_train_partially_propagated = X_train_pca[partially_propagated]\n",
    "y_train_partially_propagated = y_train_propagated[partially_propagated]"
   ]
  },
  {
   "attachments": {},
   "cell_type": "markdown",
   "metadata": {},
   "source": [
    "The number below gives the fraction of propagated data points that have the correct labels"
   ]
  },
  {
   "cell_type": "code",
   "execution_count": 49,
   "metadata": {},
   "outputs": [
    {
     "data": {
      "text/plain": [
       "0.9913793103448276"
      ]
     },
     "execution_count": 49,
     "metadata": {},
     "output_type": "execute_result"
    }
   ],
   "source": [
    "np.mean(y_train_partially_propagated == y_train[partially_propagated])"
   ]
  },
  {
   "cell_type": "code",
   "execution_count": 50,
   "metadata": {},
   "outputs": [
    {
     "data": {
      "text/plain": [
       "0.4182316118935837"
      ]
     },
     "execution_count": 50,
     "metadata": {},
     "output_type": "execute_result"
    }
   ],
   "source": [
    "clf_reg_8 = LogisticRegression(multi_class=\"ovr\", solver=\"lbfgs\", max_iter=2000, random_state=42)\n",
    "clf_reg_8.fit(X_train_partially_propagated, y_train_partially_propagated)\n",
    "clf_reg_8.score(X_test_pca, y_test)"
   ]
  },
  {
   "attachments": {},
   "cell_type": "markdown",
   "metadata": {},
   "source": [
    "Once again we define a function (k_cluster) to find the accuracy on a given number of clusters and percentage of propagation"
   ]
  },
  {
   "cell_type": "code",
   "execution_count": 51,
   "metadata": {},
   "outputs": [],
   "source": [
    "def k_cluster_2(k, p):\n",
    "    kmeans = KMeans(n_clusters=k, init='k-means++', n_init=1,\n",
    "                max_iter=400, random_state=42, )\n",
    "    kmeans.fit(X_train_pca)\n",
    "    X_digits_dist = kmeans.transform(X_train_pca)\n",
    "    representative_digit_idx = np.argmin(X_digits_dist, axis = 0)\n",
    "    X_representative_digits = X_train_pca[representative_digit_idx, :]\n",
    "    X_representative_digits_np = np.array(X_representative_digits)\n",
    "    \n",
    "    y_representative_digits = np.array(y_train.iloc[representative_digit_idx])\n",
    "    \n",
    "    log_reg = LogisticRegression(multi_class=\"ovr\", solver=\"lbfgs\", max_iter=2000, random_state=42)\n",
    "    log_reg.fit(X_representative_digits, y_representative_digits)\n",
    "    print('Accuracy with', k, 'clusters =', log_reg.score(X_test_pca, y_test))\n",
    "    \n",
    "    y_train_propagated = np.empty(len(X_train_pca), dtype=np.int32)\n",
    "    for i in range(k):\n",
    "        y_train_propagated[kmeans.labels_==i] = y_representative_digits[i]\n",
    "    \n",
    "    log_reg = LogisticRegression(multi_class=\"ovr\", solver=\"lbfgs\", max_iter=2000, random_state=1)\n",
    "    log_reg.fit(X_train_pca, y_train_propagated)\n",
    "    print('Accuracy with labells propagated =', log_reg.score(X_test_pca, y_test))\n",
    "    \n",
    "    percentile_closest = p\n",
    "    \n",
    "    X_cluster_dist = X_digits_dist[np.arange(len(X_train_pca)), kmeans.labels_]\n",
    "    for i in range(k):\n",
    "        in_cluster = (kmeans.labels_ == i)\n",
    "        cluster_dist = X_cluster_dist[in_cluster]\n",
    "        cutoff_distance = np.percentile(cluster_dist, percentile_closest)\n",
    "        above_cutoff = (X_cluster_dist > cutoff_distance)\n",
    "        X_cluster_dist[in_cluster & above_cutoff] = -1\n",
    "    \n",
    "    partially_propagated = (X_cluster_dist != -1)\n",
    "    X_train_partially_propagated = X_train_pca[partially_propagated]\n",
    "    y_train_partially_propagated = y_train_propagated[partially_propagated]\n",
    "    \n",
    "    print('Accuracy of percentage labels with actual labels =', np.mean(y_train_partially_propagated == y_train[partially_propagated]))\n",
    "    \n",
    "    log_reg = LogisticRegression(multi_class=\"ovr\", solver=\"lbfgs\", max_iter=2000, random_state=42)\n",
    "    log_reg.fit(X_train_partially_propagated, y_train_partially_propagated)\n",
    "    print('Accuracy with labells propagated to nearest', str(p)+'% elements =', log_reg.score(X_test_pca, y_test))"
   ]
  },
  {
   "cell_type": "code",
   "execution_count": 52,
   "metadata": {},
   "outputs": [
    {
     "name": "stdout",
     "output_type": "stream",
     "text": [
      "Accuracy with 500 clusters = 0.40805946791862285\n",
      "Accuracy with labells propagated = 0.3810641627543036\n",
      "Accuracy of percentage labels with actual labels = 0.7088967971530249\n",
      "Accuracy with labells propagated to nearest 20% elements = 0.40023474178403756\n"
     ]
    }
   ],
   "source": [
    "k_cluster_2(500, 20)"
   ]
  },
  {
   "attachments": {},
   "cell_type": "markdown",
   "metadata": {},
   "source": [
    "We again make a plot of accuracy Vs number of clusters with respect to this model"
   ]
  },
  {
   "cell_type": "code",
   "execution_count": 53,
   "metadata": {},
   "outputs": [],
   "source": [
    "scores = []"
   ]
  },
  {
   "cell_type": "code",
   "execution_count": 54,
   "metadata": {},
   "outputs": [],
   "source": [
    "def f(x, y, n):\n",
    "    for k in range(x, y+1, n):\n",
    "        kmeans = KMeans(n_clusters=k, init='k-means++', n_init=1,\n",
    "                max_iter=400, random_state=42, )\n",
    "        kmeans.fit(X_train_pca)\n",
    "        X_digits_dist = kmeans.transform(X_train_pca)\n",
    "        representative_digit_idx = np.argmin(X_digits_dist, axis = 0)\n",
    "        X_representative_digits = X_train_pca[representative_digit_idx, :]\n",
    "        X_representative_digits_np = np.array(X_representative_digits)\n",
    "        \n",
    "        y_representative_digits = np.array(y_train.iloc[representative_digit_idx])\n",
    "        \n",
    "        log_reg = LogisticRegression(multi_class=\"ovr\", solver=\"lbfgs\", max_iter=2000, random_state=42)\n",
    "        log_reg.fit(X_representative_digits, y_representative_digits)\n",
    "        scores.append(log_reg.score(X_test_pca, y_test))"
   ]
  },
  {
   "cell_type": "code",
   "execution_count": 55,
   "metadata": {},
   "outputs": [],
   "source": [
    "f(50, 1000, 50)"
   ]
  },
  {
   "cell_type": "code",
   "execution_count": 56,
   "metadata": {},
   "outputs": [
    {
     "name": "stdout",
     "output_type": "stream",
     "text": [
      "50 -> 0.30633802816901406\n",
      "100 -> 0.365414710485133\n",
      "150 -> 0.4061032863849765\n",
      "200 -> 0.3931924882629108\n",
      "250 -> 0.4072769953051643\n",
      "300 -> 0.3955399061032864\n",
      "350 -> 0.3884976525821596\n",
      "400 -> 0.3967136150234742\n",
      "450 -> 0.4182316118935837\n",
      "500 -> 0.40805946791862285\n",
      "550 -> 0.4104068857589984\n",
      "600 -> 0.40179968701095464\n",
      "650 -> 0.3857589984350548\n",
      "700 -> 0.38497652582159625\n",
      "750 -> 0.3830203442879499\n",
      "800 -> 0.38380281690140844\n",
      "850 -> 0.3857589984350548\n",
      "900 -> 0.38497652582159625\n",
      "950 -> 0.3767605633802817\n",
      "1000 -> 0.37715179968701096\n"
     ]
    }
   ],
   "source": [
    "for i in range(len(scores)):\n",
    "    print((i+1)*50 , \"->\", scores[i])"
   ]
  },
  {
   "cell_type": "code",
   "execution_count": 57,
   "metadata": {},
   "outputs": [
    {
     "data": {
      "text/plain": [
       "array([ 450,  550,  500,  250,  150,  600,  400,  300,  200,  350,  850,\n",
       "        650,  900,  700,  800,  750, 1000,  950,  100,   50], dtype=int64)"
      ]
     },
     "execution_count": 57,
     "metadata": {},
     "output_type": "execute_result"
    }
   ],
   "source": [
    "# To give a list to number of clusters sorted in descending order of accuracy\n",
    "\n",
    "50 + (np.argsort(scores)[::-1])*50"
   ]
  },
  {
   "cell_type": "code",
   "execution_count": 58,
   "metadata": {},
   "outputs": [
    {
     "data": {
      "image/png": "[encoded data removed]",
      "text/plain": [
       "<Figure size 800x350 with 1 Axes>"
      ]
     },
     "metadata": {},
     "output_type": "display_data"
    }
   ],
   "source": [
    "# The plot\n",
    "\n",
    "plt.figure(figsize=(8, 3.5))\n",
    "plt.plot([n for n in range(50, 1001, 50)], scores, 'bo-')\n",
    "plt.xlabel(\"$k$\", fontsize=14)\n",
    "plt.ylabel(\"Accuracy\", fontsize=14)\n",
    "\n",
    "plt.axis([0, 1050, np.min(scores) - 0.01, np.max(scores) + 0.01])\n",
    "plt.plot(450, scores[8], 'r*')\n",
    "\n",
    "plt.show()"
   ]
  },
  {
   "attachments": {},
   "cell_type": "markdown",
   "metadata": {},
   "source": [
    "This graph looks more promising, since we can set k = 450 and say that within 1000 clusters, we will get a good accuracy for 450 clusters, which on our split testing data is around 41.82%."
   ]
  },
  {
   "attachments": {},
   "cell_type": "markdown",
   "metadata": {},
   "source": [
    "## SVM"
   ]
  },
  {
   "attachments": {},
   "cell_type": "markdown",
   "metadata": {},
   "source": [
    "We now do everything exactly as above, just with a Support Vector Classifier instead of a Logistic Regressor"
   ]
  },
  {
   "cell_type": "code",
   "execution_count": 59,
   "metadata": {},
   "outputs": [
    {
     "data": {
      "text/plain": [
       "0.6494522691705791"
      ]
     },
     "execution_count": 59,
     "metadata": {},
     "output_type": "execute_result"
    }
   ],
   "source": [
    "from sklearn.svm import SVC\n",
    "\n",
    "svc = SVC(random_state=42)\n",
    "svc.fit(X_train_pca, y_train)\n",
    "svc.score(X_test_pca, y_test)"
   ]
  },
  {
   "attachments": {},
   "cell_type": "markdown",
   "metadata": {},
   "source": [
    "SVM after Clustering"
   ]
  },
  {
   "cell_type": "code",
   "execution_count": 60,
   "metadata": {},
   "outputs": [
    {
     "data": {
      "text/plain": [
       "0.5254303599374022"
      ]
     },
     "execution_count": 60,
     "metadata": {},
     "output_type": "execute_result"
    }
   ],
   "source": [
    "svc = SVC(random_state=42)\n",
    "svc.fit(X_representative_digits, y_representative_digits)\n",
    "svc.score(X_test_pca, y_test)"
   ]
  },
  {
   "attachments": {},
   "cell_type": "markdown",
   "metadata": {},
   "source": [
    "SVM after propagation"
   ]
  },
  {
   "cell_type": "code",
   "execution_count": 61,
   "metadata": {},
   "outputs": [
    {
     "data": {
      "text/plain": [
       "0.5"
      ]
     },
     "execution_count": 61,
     "metadata": {},
     "output_type": "execute_result"
    }
   ],
   "source": [
    "svc = SVC(random_state=42)\n",
    "svc.fit(X_train_pca, y_train_propagated)\n",
    "svc.score(X_test_pca, y_test)"
   ]
  },
  {
   "attachments": {},
   "cell_type": "markdown",
   "metadata": {},
   "source": [
    "SVM after 1% propagation"
   ]
  },
  {
   "cell_type": "code",
   "execution_count": 62,
   "metadata": {},
   "outputs": [
    {
     "data": {
      "text/plain": [
       "0.5242566510172144"
      ]
     },
     "execution_count": 62,
     "metadata": {},
     "output_type": "execute_result"
    }
   ],
   "source": [
    "svc = SVC(random_state=42)\n",
    "svc.fit(X_train_partially_propagated, y_train_partially_propagated)\n",
    "svc.score(X_test_pca, y_test)"
   ]
  },
  {
   "cell_type": "code",
   "execution_count": 63,
   "metadata": {},
   "outputs": [],
   "source": [
    "def k_cluster_3(k, p):\n",
    "    kmeans = KMeans(n_clusters=k, init='k-means++', n_init=1,\n",
    "                max_iter=400, random_state=42, )\n",
    "    kmeans.fit(X_train_pca)\n",
    "    X_digits_dist = kmeans.transform(X_train_pca)\n",
    "    representative_digit_idx = np.argmin(X_digits_dist, axis = 0)\n",
    "    X_representative_digits = X_train_pca[representative_digit_idx, :]\n",
    "    X_representative_digits_np = np.array(X_representative_digits)\n",
    "    \n",
    "    y_representative_digits = np.array(y_train.iloc[representative_digit_idx])\n",
    "    \n",
    "    svc = SVC(random_state=42)\n",
    "    svc.fit(X_representative_digits, y_representative_digits)\n",
    "    print('Accuracy with', k, 'clusters =', svc.score(X_test_pca, y_test))\n",
    "    \n",
    "    y_train_propagated = np.empty(len(X_train_pca), dtype=np.int32)\n",
    "    for i in range(k):\n",
    "        y_train_propagated[kmeans.labels_==i] = y_representative_digits[i]\n",
    "    \n",
    "    svc = SVC(random_state=1)\n",
    "    svc.fit(X_train_pca, y_train_propagated)\n",
    "    print('Accuracy with labells propagated =', svc.score(X_test_pca, y_test))\n",
    "    \n",
    "    percentile_closest = p\n",
    "    \n",
    "    X_cluster_dist = X_digits_dist[np.arange(len(X_train_pca)), kmeans.labels_]\n",
    "    for i in range(k):\n",
    "        in_cluster = (kmeans.labels_ == i)\n",
    "        cluster_dist = X_cluster_dist[in_cluster]\n",
    "        cutoff_distance = np.percentile(cluster_dist, percentile_closest)\n",
    "        above_cutoff = (X_cluster_dist > cutoff_distance)\n",
    "        X_cluster_dist[in_cluster & above_cutoff] = -1\n",
    "    \n",
    "    partially_propagated = (X_cluster_dist != -1)\n",
    "    X_train_partially_propagated = X_train_pca[partially_propagated]\n",
    "    y_train_partially_propagated = y_train_propagated[partially_propagated]\n",
    "    \n",
    "    print('Accuracy of percentage labels with actual labels =', np.mean(y_train_partially_propagated == y_train[partially_propagated]))\n",
    "    \n",
    "    svc = SVC(random_state=42)\n",
    "    svc.fit(X_train_partially_propagated, y_train_partially_propagated)\n",
    "    print('Accuracy with labells propagated to nearest', str(p)+'% elements =', svc.score(X_test_pca, y_test))"
   ]
  },
  {
   "cell_type": "code",
   "execution_count": 64,
   "metadata": {},
   "outputs": [
    {
     "name": "stdout",
     "output_type": "stream",
     "text": [
      "Accuracy with 500 clusters = 0.5348200312989045\n",
      "Accuracy with labells propagated = 0.49921752738654146\n",
      "Accuracy of percentage labels with actual labels = 0.9863813229571985\n",
      "Accuracy with labells propagated to nearest 1% elements = 0.5410798122065728\n"
     ]
    }
   ],
   "source": [
    "k_cluster_3(500, 1)"
   ]
  },
  {
   "cell_type": "code",
   "execution_count": 65,
   "metadata": {},
   "outputs": [],
   "source": [
    "def f(x, y, n):\n",
    "    for k in range(x, y+1, n):\n",
    "        kmeans = KMeans(n_clusters=k, init='k-means++', n_init=1,\n",
    "                max_iter=400, random_state=42, )\n",
    "        kmeans.fit(X_train_pca)\n",
    "        X_digits_dist = kmeans.transform(X_train_pca)\n",
    "        representative_digit_idx = np.argmin(X_digits_dist, axis = 0)\n",
    "        X_representative_digits = X_train_pca[representative_digit_idx, :]\n",
    "        X_representative_digits_np = np.array(X_representative_digits)\n",
    "        \n",
    "        y_representative_digits = np.array(y_train.iloc[representative_digit_idx])\n",
    "        \n",
    "        svc = SVC(random_state=42)\n",
    "        svc.fit(X_representative_digits, y_representative_digits)\n",
    "        scores.append(svc.score(X_test_pca, y_test))"
   ]
  },
  {
   "cell_type": "code",
   "execution_count": 66,
   "metadata": {},
   "outputs": [],
   "source": [
    "scores = []"
   ]
  },
  {
   "cell_type": "code",
   "execution_count": 67,
   "metadata": {},
   "outputs": [],
   "source": [
    "f(50, 1000, 50)"
   ]
  },
  {
   "cell_type": "code",
   "execution_count": 68,
   "metadata": {},
   "outputs": [
    {
     "name": "stdout",
     "output_type": "stream",
     "text": [
      "50 -> 0.31690140845070425\n",
      "100 -> 0.392018779342723\n",
      "150 -> 0.431924882629108\n",
      "200 -> 0.46635367762128327\n",
      "250 -> 0.458528951486698\n",
      "300 -> 0.46557120500782473\n",
      "350 -> 0.48865414710485133\n",
      "400 -> 0.49608763693270735\n",
      "450 -> 0.5254303599374022\n",
      "500 -> 0.5348200312989045\n",
      "550 -> 0.4910015649452269\n",
      "600 -> 0.5050860719874805\n",
      "650 -> 0.4980438184663537\n",
      "700 -> 0.52660406885759\n",
      "750 -> 0.4968701095461659\n",
      "800 -> 0.49608763693270735\n",
      "850 -> 0.5043035993740219\n",
      "900 -> 0.5129107981220657\n",
      "950 -> 0.5152582159624414\n",
      "1000 -> 0.505868544600939\n"
     ]
    }
   ],
   "source": [
    "for i in range(len(scores)):\n",
    "    print((i+1)*50 , \"->\", scores[i])"
   ]
  },
  {
   "cell_type": "code",
   "execution_count": 69,
   "metadata": {},
   "outputs": [
    {
     "data": {
      "text/plain": [
       "array([ 500,  700,  450,  950,  900, 1000,  600,  850,  650,  750,  800,\n",
       "        400,  550,  350,  200,  300,  250,  150,  100,   50], dtype=int64)"
      ]
     },
     "execution_count": 69,
     "metadata": {},
     "output_type": "execute_result"
    }
   ],
   "source": [
    "50 + (np.argsort(scores)[::-1])*50"
   ]
  },
  {
   "cell_type": "code",
   "execution_count": 70,
   "metadata": {},
   "outputs": [
    {
     "data": {
      "image/png": "[encoded data removed]",
      "text/plain": [
       "<Figure size 800x350 with 1 Axes>"
      ]
     },
     "metadata": {},
     "output_type": "display_data"
    }
   ],
   "source": [
    "plt.figure(figsize=(8, 3.5))\n",
    "plt.plot([n for n in range(50, 1001, 50)], scores, 'bo-')\n",
    "plt.xlabel(\"$k$\", fontsize=14)\n",
    "plt.ylabel(\"Accuracy\", fontsize=14)\n",
    "\n",
    "plt.axis([0, 1050, np.min(scores) - 0.01, np.max(scores) + 0.01])\n",
    "plt.plot(500, scores[9], 'r*')\n",
    "\n",
    "plt.show()"
   ]
  },
  {
   "attachments": {},
   "cell_type": "markdown",
   "metadata": {},
   "source": [
    "This graph also looks very promising, since we can set k = 500 and say that here we get the maxixum accuracy within 1000 clusters, of around 53.48%."
   ]
  },
  {
   "attachments": {},
   "cell_type": "markdown",
   "metadata": {},
   "source": [
    "### Now, using this model on our original testing dataset"
   ]
  },
  {
   "attachments": {},
   "cell_type": "markdown",
   "metadata": {},
   "source": [
    "Clustering and Logistic Regression:"
   ]
  },
  {
   "cell_type": "code",
   "execution_count": 71,
   "metadata": {},
   "outputs": [],
   "source": [
    "def k_cluster_1(k, p):\n",
    "    kmeans = KMeans(n_clusters=k, init='k-means++', n_init=1,\n",
    "                max_iter=400, random_state=42, )\n",
    "    kmeans.fit(X_train_1)\n",
    "    X_digits_dist = kmeans.transform(X_train_1)\n",
    "    representative_digit_idx = np.argmin(X_digits_dist, axis = 0)\n",
    "    X_representative_digits = X_train_1.iloc[representative_digit_idx, :]\n",
    "    X_representative_digits_np = np.array(X_representative_digits)\n",
    "    \n",
    "    y_representative_digits = np.array(y_train_1.iloc[representative_digit_idx])\n",
    "    \n",
    "    log_reg = LogisticRegression(multi_class=\"ovr\", solver=\"lbfgs\", max_iter=2000, random_state=42)\n",
    "    log_reg.fit(X_representative_digits, y_representative_digits)\n",
    "    print('Accuracy with', k, 'clusters =', log_reg.score(X_test_1, y_test_1))\n",
    "    \n",
    "    y_train_propagated = np.empty(len(X_train_1), dtype=np.int32)\n",
    "    for i in range(k):\n",
    "        y_train_propagated[kmeans.labels_==i] = y_representative_digits[i]\n",
    "    \n",
    "    log_reg = LogisticRegression(multi_class=\"ovr\", solver=\"lbfgs\", max_iter=2000, random_state=1)\n",
    "    log_reg.fit(X_train_1, y_train_propagated)\n",
    "    print('Accuracy with labells propagated =', log_reg.score(X_test_1, y_test_1))\n",
    "    \n",
    "    percentile_closest = p\n",
    "    \n",
    "    X_cluster_dist = X_digits_dist[np.arange(len(X_train_1)), kmeans.labels_]\n",
    "    for i in range(k):\n",
    "        in_cluster = (kmeans.labels_ == i)\n",
    "        cluster_dist = X_cluster_dist[in_cluster]\n",
    "        cutoff_distance = np.percentile(cluster_dist, percentile_closest)\n",
    "        above_cutoff = (X_cluster_dist > cutoff_distance)\n",
    "        X_cluster_dist[in_cluster & above_cutoff] = -1\n",
    "    \n",
    "    partially_propagated = (X_cluster_dist != -1)\n",
    "    X_train_partially_propagated = X_train_1[partially_propagated]\n",
    "    y_train_partially_propagated = y_train_propagated[partially_propagated]\n",
    "    \n",
    "    log_reg = LogisticRegression(multi_class=\"ovr\", solver=\"lbfgs\", max_iter=2000, random_state=42)\n",
    "    log_reg.fit(X_train_partially_propagated, y_train_partially_propagated)\n",
    "    print('Accuracy with labells propagated to nearest', str(p)+'% elements =', log_reg.score(X_test_1, y_test_1))"
   ]
  },
  {
   "cell_type": "code",
   "execution_count": 72,
   "metadata": {},
   "outputs": [
    {
     "name": "stdout",
     "output_type": "stream",
     "text": [
      "Accuracy with 200 clusters = 0.3455399061032864\n",
      "Accuracy with labells propagated = 0.28732394366197184\n",
      "Accuracy with labells propagated to nearest 10% elements = 0.292018779342723\n"
     ]
    }
   ],
   "source": [
    "k_cluster_1(200, 10)"
   ]
  },
  {
   "attachments": {},
   "cell_type": "markdown",
   "metadata": {},
   "source": [
    "PCA, Clustering then Logistic Regression:"
   ]
  },
  {
   "cell_type": "code",
   "execution_count": 73,
   "metadata": {},
   "outputs": [],
   "source": [
    "pca = PCA(n_components=t, random_state=42)\n",
    "pca.fit(X_train_1)\n",
    "X_train_1_pca = pca.transform(X_train_1)\n",
    "X_test_1_pca = pca.transform(X_test_1)"
   ]
  },
  {
   "cell_type": "code",
   "execution_count": 74,
   "metadata": {},
   "outputs": [],
   "source": [
    "def k_cluster_2(k, p):\n",
    "    kmeans = KMeans(n_clusters=k, init='k-means++', n_init=1,\n",
    "                max_iter=400, random_state=42, )\n",
    "    kmeans.fit(X_train_1_pca)\n",
    "    X_digits_dist = kmeans.transform(X_train_1_pca)\n",
    "    representative_digit_idx = np.argmin(X_digits_dist, axis = 0)\n",
    "    X_representative_digits = X_train_1_pca[representative_digit_idx, :]\n",
    "    X_representative_digits_np = np.array(X_representative_digits)\n",
    "    \n",
    "    y_representative_digits = np.array(y_train_1.iloc[representative_digit_idx])\n",
    "    \n",
    "    log_reg = LogisticRegression(multi_class=\"ovr\", solver=\"lbfgs\", max_iter=2000, random_state=42)\n",
    "    log_reg.fit(X_representative_digits, y_representative_digits)\n",
    "    print('Accuracy with', k, 'clusters =', log_reg.score(X_test_1_pca, y_test_1))\n",
    "    \n",
    "    y_train_propagated = np.empty(len(X_train_1_pca), dtype=np.int32)\n",
    "    for i in range(k):\n",
    "        y_train_propagated[kmeans.labels_==i] = y_representative_digits[i]\n",
    "    \n",
    "    log_reg = LogisticRegression(multi_class=\"ovr\", solver=\"lbfgs\", max_iter=2000, random_state=1)\n",
    "    log_reg.fit(X_train_1_pca, y_train_propagated)\n",
    "    print('Accuracy with labells propagated =', log_reg.score(X_test_1_pca, y_test_1))\n",
    "    \n",
    "    percentile_closest = p\n",
    "    \n",
    "    X_cluster_dist = X_digits_dist[np.arange(len(X_train_1_pca)), kmeans.labels_]\n",
    "    for i in range(k):\n",
    "        in_cluster = (kmeans.labels_ == i)\n",
    "        cluster_dist = X_cluster_dist[in_cluster]\n",
    "        cutoff_distance = np.percentile(cluster_dist, percentile_closest)\n",
    "        above_cutoff = (X_cluster_dist > cutoff_distance)\n",
    "        X_cluster_dist[in_cluster & above_cutoff] = -1\n",
    "    \n",
    "    partially_propagated = (X_cluster_dist != -1)\n",
    "    X_train_partially_propagated = X_train_1_pca[partially_propagated]\n",
    "    y_train_partially_propagated = y_train_propagated[partially_propagated]\n",
    "    \n",
    "    log_reg = LogisticRegression(multi_class=\"ovr\", solver=\"lbfgs\", max_iter=2000, random_state=42)\n",
    "    log_reg.fit(X_train_partially_propagated, y_train_partially_propagated)\n",
    "    print('Accuracy with labells propagated to nearest', str(p)+'% elements =', log_reg.score(X_test_1_pca, y_test_1))"
   ]
  },
  {
   "cell_type": "code",
   "execution_count": 75,
   "metadata": {},
   "outputs": [
    {
     "name": "stdout",
     "output_type": "stream",
     "text": [
      "Accuracy with 450 clusters = 0.4084507042253521\n",
      "Accuracy with labells propagated = 0.4056338028169014\n",
      "Accuracy with labells propagated to nearest 10% elements = 0.41502347417840374\n"
     ]
    }
   ],
   "source": [
    "k_cluster_2(450, 10)"
   ]
  },
  {
   "attachments": {},
   "cell_type": "markdown",
   "metadata": {},
   "source": [
    "PCA, Clustering then SVM:"
   ]
  },
  {
   "cell_type": "code",
   "execution_count": 76,
   "metadata": {},
   "outputs": [],
   "source": [
    "def k_cluster_3(k, p):\n",
    "    kmeans = KMeans(n_clusters=k, init='k-means++', n_init=1,\n",
    "                max_iter=400, random_state=42, )\n",
    "    kmeans.fit(X_train_1_pca)\n",
    "    X_digits_dist = kmeans.transform(X_train_1_pca)\n",
    "    representative_digit_idx = np.argmin(X_digits_dist, axis = 0)\n",
    "    X_representative_digits = X_train_1_pca[representative_digit_idx, :]\n",
    "    X_representative_digits_np = np.array(X_representative_digits)\n",
    "    \n",
    "    y_representative_digits = np.array(y_train_1.iloc[representative_digit_idx])\n",
    "    \n",
    "    svc = SVC(random_state=42)\n",
    "    svc.fit(X_representative_digits, y_representative_digits)\n",
    "    print('Accuracy with', k, 'clusters =', svc.score(X_test_1_pca, y_test_1))\n",
    "    \n",
    "    y_train_propagated = np.empty(len(X_train_1_pca), dtype=np.int32)\n",
    "    for i in range(k):\n",
    "        y_train_propagated[kmeans.labels_==i] = y_representative_digits[i]\n",
    "    \n",
    "    svc = SVC(random_state=1)\n",
    "    svc.fit(X_train_1_pca, y_train_propagated)\n",
    "    print('Accuracy with labells propagated =', svc.score(X_test_1_pca, y_test_1))\n",
    "    \n",
    "    percentile_closest = p\n",
    "    \n",
    "    X_cluster_dist = X_digits_dist[np.arange(len(X_train_1_pca)), kmeans.labels_]\n",
    "    for i in range(k):\n",
    "        in_cluster = (kmeans.labels_ == i)\n",
    "        cluster_dist = X_cluster_dist[in_cluster]\n",
    "        cutoff_distance = np.percentile(cluster_dist, percentile_closest)\n",
    "        above_cutoff = (X_cluster_dist > cutoff_distance)\n",
    "        X_cluster_dist[in_cluster & above_cutoff] = -1\n",
    "    \n",
    "    partially_propagated = (X_cluster_dist != -1)\n",
    "    X_train_partially_propagated = X_train_1_pca[partially_propagated]\n",
    "    y_train_partially_propagated = y_train_propagated[partially_propagated]\n",
    "    \n",
    "    svc = SVC(random_state=42)\n",
    "    svc.fit(X_train_partially_propagated, y_train_partially_propagated)\n",
    "    print('Accuracy with labells propagated to nearest', str(p)+'% elements =', svc.score(X_test_1_pca, y_test_1))"
   ]
  },
  {
   "cell_type": "code",
   "execution_count": 77,
   "metadata": {},
   "outputs": [
    {
     "name": "stdout",
     "output_type": "stream",
     "text": [
      "Accuracy with 500 clusters = 0.539906103286385\n",
      "Accuracy with labells propagated = 0.5117370892018779\n",
      "Accuracy with labells propagated to nearest 10% elements = 0.5267605633802817\n"
     ]
    }
   ],
   "source": [
    "k_cluster_3(500, 10)"
   ]
  },
  {
   "attachments": {},
   "cell_type": "markdown",
   "metadata": {},
   "source": [
    "In summary, we are getting a maximum accuracy by Dimensionality Reduction into 25 attributes using PCA, then clustering into 500 clusters, and the manually labelling the elements nearest to centroids of each cluster and training an SVM model using them.$\\\\$\n",
    "On the given training and testing sample, we are getting an accuracy of around 54%."
   ]
  }
 ],
 "metadata": {
  "kernelspec": {
   "display_name": "Python 3",
   "language": "python",
   "name": "python3"
  },
  "language_info": {
   "codemirror_mode": {
    "name": "ipython",
    "version": 3
   },
   "file_extension": ".py",
   "mimetype": "text/x-python",
   "name": "python",
   "nbconvert_exporter": "python",
   "pygments_lexer": "ipython3",
   "version": "3.11.1"
  },
  "orig_nbformat": 4
 },
 "nbformat": 4,
 "nbformat_minor": 2
}
